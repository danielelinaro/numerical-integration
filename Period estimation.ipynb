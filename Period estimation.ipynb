{
 "cells": [
  {
   "cell_type": "code",
   "execution_count": 1,
   "metadata": {},
   "outputs": [],
   "source": [
    "%load_ext autoreload\n",
    "%autoreload 2\n",
    "import numpy as np\n",
    "import matplotlib.pyplot as plt\n",
    "from scipy.integrate import solve_ivp\n",
    "from polimi.systems import vdp, vdp_jac, y0min"
   ]
  },
  {
   "cell_type": "code",
   "execution_count": 2,
   "metadata": {},
   "outputs": [],
   "source": [
    "def _one_period(fun,t0,y0,T_guess,jac=None,rtol=1e-8,atol=None):\n",
    "    # find the equation of the plane containing y0 and\n",
    "    # orthogonal to fun(t0,y0)\n",
    "    f = fun(t0,y0)\n",
    "    w = f/np.linalg.norm(f)\n",
    "    b = -np.dot(w,y0)\n",
    "    # integrate the system for 2 guesses of the period\n",
    "    if atol is None:\n",
    "        atol = 1e-8 + np.zeros(y0.shape)\n",
    "    sol = solve_ivp(fun,[t0,t0+2*T_guess],y0,method='BDF',\n",
    "                    jac=jac,atol=atol,rtol=rtol,\n",
    "                    events=lambda t,y: np.dot(w,y)+b,\n",
    "                    dense_output=True)\n",
    "    t_start = None   # the first event is always the inital point\n",
    "    for t_ev in sol['t_events'][0]:\n",
    "        if t_start is None:\n",
    "            t_start = t_ev\n",
    "            continue\n",
    "        x_ev = sol['sol'](t_ev)\n",
    "        f = fun(t_ev,x_ev)\n",
    "        # check whether the crossing of the plane is in\n",
    "        # the same direction as the initial point\n",
    "        if np.dot(w,f/np.linalg.norm(f))+b > 0:\n",
    "            T = t_ev-t_start\n",
    "            #print('The period is', T)\n",
    "            break\n",
    "    # compute the \"vector field\" of the envelope\n",
    "    print('t_start =',t_start)\n",
    "    G = 1./T * (sol['sol'](t_start+T) - sol['sol'](t_start))\n",
    "    return (G,T)"
   ]
  },
  {
   "cell_type": "code",
   "execution_count": 4,
   "metadata": {},
   "outputs": [
    {
     "name": "stdout",
     "output_type": "stream",
     "text": [
      "Integrating the transient... done.\n"
     ]
    },
    {
     "data": {
      "image/png": "[encoded data removed]",
      "text/plain": [
       "<Figure size 432x288 with 1 Axes>"
      ]
     },
     "metadata": {
      "needs_background": "light"
     },
     "output_type": "display_data"
    },
    {
     "name": "stdout",
     "output_type": "stream",
     "text": [
      "t_start = 2000.0\n",
      "The period is 6.283184.\n",
      "G = [-0.00013532 -0.00034409]\n"
     ]
    }
   ],
   "source": [
    "A = [0,0]\n",
    "T = [5,200]\n",
    "epsilon = 0.001\n",
    "y0 = np.random.uniform(size=2)\n",
    "fun = lambda t,y: vdp(t,y,epsilon,A,T)\n",
    "jac = lambda t,y: vdp_jac(t,y,epsilon)\n",
    "ttran = 2000\n",
    "if ttran > 0:\n",
    "    print('Integrating the transient...',end='')\n",
    "    tran = solve_ivp(fun,[0,ttran],y0,method='BDF',\n",
    "                     atol=1e-8+np.zeros(2),\n",
    "                     rtol=1e-10,jac=jac)\n",
    "    print(' done.')\n",
    "    plt.plot(tran['t'],tran['y'][0],'k')\n",
    "    plt.show()\n",
    "    y0 = tran['y'][:,-1]\n",
    "G,period = _one_period(fun, ttran, y0, 1.1*np.min(T), jac)\n",
    "print('The period is %.6f.' % period)\n",
    "print('G =', G)"
   ]
  },
  {
   "cell_type": "code",
   "execution_count": null,
   "metadata": {},
   "outputs": [],
   "source": [
    "A = [5,5]\n",
    "T = [10,100]\n",
    "epsilon = 0.001\n",
    "y0 = np.random.uniform(size=2)\n",
    "with_tran = True\n",
    "if with_tran:\n",
    "    print('Integrating transient...')\n",
    "    tran = solve_ivp(lambda t,y: vdp(t,y,epsilon,A,T),[0,1000],y0,\n",
    "                     method='BDF',atol=1e-8+np.zeros(2),rtol=1e-8,\n",
    "                     jac=lambda t,y: vdp_jac(t,y,epsilon))\n",
    "    plt.plot(tran['t'],tran['y'][0],'k')\n",
    "    plt.show()\n",
    "    y0 = tran['y'][:,-1]\n",
    "#y0 = np.array([0.1,0.1])\n",
    "f = vdp(0,y0,epsilon,A,T)\n",
    "y1 = y0 + f\n",
    "w = f/np.linalg.norm(f)\n",
    "b = -np.dot(w,y0)\n",
    "print('y0 =', y0)\n",
    "print('f =', f)\n",
    "print('w =', w)\n",
    "print('norm(w) =', np.linalg.norm(w))\n",
    "print('b =', b)"
   ]
  },
  {
   "cell_type": "code",
   "execution_count": null,
   "metadata": {},
   "outputs": [],
   "source": [
    "tend = 10*T[0]\n",
    "sol = solve_ivp(lambda t,y: vdp(t,y,epsilon,A,T),[0,tend],y0,\n",
    "                method='BDF',atol=1e-8+np.zeros(2),rtol=1e-8,\n",
    "                jac=lambda t,y: vdp_jac(t,y,epsilon),\n",
    "                events=lambda t,y: np.dot(w,y)+b, dense_output=True)\n",
    "\n",
    "\n",
    "pos = []\n",
    "d = []\n",
    "for i in range(len(sol['t'])):\n",
    "    pos.append(np.dot(w,sol['y'][:,i])+b)\n",
    "    f = vdp(sol['t'][i],sol['y'][:,i],epsilon,A,T)\n",
    "    d.append(np.dot(w,f/np.linalg.norm(f)))\n",
    "pos = np.array(pos)\n",
    "d = np.array(d)\n",
    "x = np.array([y0[0]-6,y0[0]+6])\n",
    "y = -(w[0]*x+b)/w[1]\n",
    "\n",
    "plt.figure(figsize=[10,5])\n",
    "\n",
    "plt.subplot(1,2,1)\n",
    "plt.plot(sol['t'],sol['y'][0],'k')\n",
    "#plt.plot(sol['t'],pos,'r')\n",
    "#plt.plot(sol['t'],d,'b')\n",
    "for t_ev in sol['t_events'][0]:\n",
    "    plt.plot(t_ev,sol['sol'](t_ev)[0],'o',color=[0,.9,0])\n",
    "yl = plt.ylim()\n",
    "\n",
    "plt.subplot(1,2,2)\n",
    "plt.plot([y0[0],y1[0]],[y0[1],y1[1]],'r')\n",
    "plt.plot(x,y,'b')\n",
    "plt.plot(sol['y'][0],sol['y'][1],'k')\n",
    "plt.plot(y0[0],y0[1],'go')\n",
    "for i in range(1,len(sol['t_events'][0])):\n",
    "    t_ev = sol['t_events'][0][i]\n",
    "    x_ev = sol['sol'](t_ev)\n",
    "    f = vdp(t_ev,x_ev,epsilon,A,T)\n",
    "    if np.dot(w,f/np.linalg.norm(f))+b > 0:\n",
    "        col = [1,.5,0]\n",
    "    else:\n",
    "        col = [1,0,.5]\n",
    "    plt.plot(x_ev[0],x_ev[1],'o',color=col)\n",
    "plt.axis('square')\n",
    "\n",
    "plt.show()"
   ]
  },
  {
   "cell_type": "code",
   "execution_count": null,
   "metadata": {},
   "outputs": [],
   "source": [
    "sol['t_events'][0]"
   ]
  },
  {
   "cell_type": "code",
   "execution_count": null,
   "metadata": {},
   "outputs": [],
   "source": [
    "for i in range(1,len(sol['t_events'][0])):\n",
    "    t_ev = sol['t_events'][0][i]\n",
    "    x_ev = sol['sol'](t_ev)\n",
    "    f = vdp(t_ev,x_ev,epsilon,A,T)\n",
    "    if np.dot(w,f/np.linalg.norm(f))+b > 0:\n",
    "        period = t_ev\n",
    "        print('The period is', period-sol['t_events'][0][0])\n",
    "        break"
   ]
  }
 ],
 "metadata": {
  "kernelspec": {
   "display_name": "Python 3",
   "language": "python",
   "name": "python3"
  },
  "language_info": {
   "codemirror_mode": {
    "name": "ipython",
    "version": 3
   },
   "file_extension": ".py",
   "mimetype": "text/x-python",
   "name": "python",
   "nbconvert_exporter": "python",
   "pygments_lexer": "ipython3",
   "version": "3.7.2"
  }
 },
 "nbformat": 4,
 "nbformat_minor": 2
}
