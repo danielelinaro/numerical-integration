{
 "cells": [
  {
   "cell_type": "code",
   "execution_count": 1,
   "metadata": {},
   "outputs": [],
   "source": [
    "%load_ext autoreload\n",
    "%autoreload 2\n",
    "import numpy as np\n",
    "import matplotlib.pyplot as plt\n",
    "from scipy.integrate import solve_ivp\n",
    "from polimi.systems import vdp, vdp_jac\n",
    "import polimi.envelope as envelope"
   ]
  },
  {
   "cell_type": "code",
   "execution_count": 2,
   "metadata": {},
   "outputs": [],
   "source": [
    "A = [0,0]\n",
    "T = [10,100]\n",
    "epsilon = 0.001\n",
    "#y0 = np.random.uniform(size=2)\n",
    "y0 = [2.00628952e-03, 6.23416249e-19]\n",
    "fun = lambda t,y: vdp(t,y,epsilon,A,T)\n",
    "jac = lambda t,y: vdp_jac(t,y,epsilon)\n",
    "ttran = 0\n",
    "if ttran > 0:\n",
    "    print('Integrating the transient...',end='')\n",
    "    tran = solve_ivp(fun,[0,ttran],y0,method='BDF',\n",
    "                     atol=1e-8+np.zeros(2),\n",
    "                     rtol=1e-10,jac=jac)\n",
    "    print(' done.')\n",
    "    plt.plot(tran['t'],tran['y'][0],'k')\n",
    "    plt.show()\n",
    "    y0 = tran['y'][:,-1]"
   ]
  },
  {
   "cell_type": "code",
   "execution_count": 4,
   "metadata": {},
   "outputs": [
    {
     "name": "stdout",
     "output_type": "stream",
     "text": [
      "> \u001b[0;32m/Users/daniele/PoliMi/Research/Numerical_integration/polimi/envelope.py\u001b[0m(29)\u001b[0;36m_one_period\u001b[0;34m()\u001b[0m\n",
      "\u001b[0;32m     28 \u001b[0;31m    \u001b[0;31m# integrate the system for 2 guesses of the period\u001b[0m\u001b[0;34m\u001b[0m\u001b[0;34m\u001b[0m\u001b[0;34m\u001b[0m\u001b[0m\n",
      "\u001b[0m\u001b[0;32m---> 29 \u001b[0;31m    \u001b[0;32mif\u001b[0m \u001b[0mnp\u001b[0m\u001b[0;34m.\u001b[0m\u001b[0misscalar\u001b[0m\u001b[0;34m(\u001b[0m\u001b[0matol\u001b[0m\u001b[0;34m)\u001b[0m\u001b[0;34m:\u001b[0m\u001b[0;34m\u001b[0m\u001b[0;34m\u001b[0m\u001b[0m\n",
      "\u001b[0m\u001b[0;32m     30 \u001b[0;31m        \u001b[0matol\u001b[0m \u001b[0;34m+=\u001b[0m \u001b[0mnp\u001b[0m\u001b[0;34m.\u001b[0m\u001b[0mzeros\u001b[0m\u001b[0;34m(\u001b[0m\u001b[0mlen\u001b[0m\u001b[0;34m(\u001b[0m\u001b[0my0\u001b[0m\u001b[0;34m)\u001b[0m\u001b[0;34m)\u001b[0m\u001b[0;34m\u001b[0m\u001b[0;34m\u001b[0m\u001b[0m\n",
      "\u001b[0m\n",
      "ipdb> p t0\n",
      "6.283185307179586\n",
      "ipdb> p y0\n",
      "[0.00200628952, 6.23416249e-19]\n",
      "ipdb> p w\n",
      "array([ 3.1073095e-16, -1.0000000e+00])\n",
      "ipdb> p b\n",
      "-0.0\n",
      "ipdb> p f\n",
      "array([ 6.23416249e-19, -2.00628952e-03])\n",
      "ipdb> c\n",
      "The period is 6.283186.\n",
      "G = [1.00415758e-06 1.55300508e-19]\n"
     ]
    }
   ],
   "source": [
    "G,period = envelope._one_period(fun, 2*np.pi, y0, 2*np.pi, jac)\n",
    "print('The period is %.6f.' % period)\n",
    "print('G =', G)"
   ]
  },
  {
   "cell_type": "code",
   "execution_count": 10,
   "metadata": {},
   "outputs": [
    {
     "name": "stdout",
     "output_type": "stream",
     "text": [
      "w = [ 3.1073095e-16 -1.0000000e+00]\n",
      "b = -0.0\n"
     ]
    }
   ],
   "source": [
    "t0 = 6.283185861831177\n",
    "y0 = np.array([2.00628952e-03, 6.23416249e-19])\n",
    "T_guess = 6.283185861831177\n",
    "atol = np.array([1.e-10, 1.e-10])\n",
    "rtol = 1e-08\n",
    "w = np.array([3.1073095e-16, -1.0000000e+00])\n",
    "b = -0.0\n",
    "G,period = envelope._one_period(fun, t0, y0, T_guess, jac, rtol, atol)"
   ]
  },
  {
   "cell_type": "code",
   "execution_count": 8,
   "metadata": {},
   "outputs": [
    {
     "name": "stdout",
     "output_type": "stream",
     "text": [
      "6.283185861829262\n"
     ]
    }
   ],
   "source": [
    "print(period)"
   ]
  }
 ],
 "metadata": {
  "kernelspec": {
   "display_name": "Python 3",
   "language": "python",
   "name": "python3"
  },
  "language_info": {
   "codemirror_mode": {
    "name": "ipython",
    "version": 3
   },
   "file_extension": ".py",
   "mimetype": "text/x-python",
   "name": "python",
   "nbconvert_exporter": "python",
   "pygments_lexer": "ipython3",
   "version": "3.7.2"
  }
 },
 "nbformat": 4,
 "nbformat_minor": 2
}
