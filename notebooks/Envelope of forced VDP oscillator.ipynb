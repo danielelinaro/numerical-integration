{
 "cells": [
  {
   "cell_type": "markdown",
   "metadata": {},
   "source": [
    "## Forced system"
   ]
  },
  {
   "cell_type": "code",
   "execution_count": null,
   "metadata": {},
   "outputs": [],
   "source": [
    "%load_ext autoreload\n",
    "%autoreload 2\n",
    "import numpy as np\n",
    "#import scipy\n",
    "import matplotlib.pyplot as plt\n",
    "#from scipy.integrate import solve_ivp\n",
    "from polimi import solve_ivp\n",
    "import polimi.systems as systems\n",
    "import polimi.envelope as envelope\n",
    "from polimi.solvers import *\n",
    "print('numpy version: ' + np.__version__)\n",
    "#print('scipy version: ' + scipy.__version__)"
   ]
  },
  {
   "cell_type": "code",
   "execution_count": null,
   "metadata": {},
   "outputs": [],
   "source": [
    "epsilon = 0.001\n",
    "A = [10,0]\n",
    "T = [10.,100.]\n",
    "tend = 30.\n",
    "y0_ref = np.array([2,-3])\n",
    "reltol = 1e-6\n",
    "abstol = 1e-8*np.ones(y0_ref.shape)\n",
    "ref = solve_ivp(lambda t,y: systems.vdp(t,y,epsilon,A,T),[0,tend], y0_ref,\n",
    "                method='BDF', jac=lambda t,y: systems.vdp_jac(t,y,epsilon),\n",
    "                events=systems.y1min, atol=abstol, rtol=reltol)"
   ]
  },
  {
   "cell_type": "code",
   "execution_count": null,
   "metadata": {},
   "outputs": [],
   "source": [
    "plt.figure(figsize=[10,8])\n",
    "plt.subplot(2,2,1)\n",
    "plt.plot(ref['t'],ref['y'][0],'k')\n",
    "plt.xlabel('Time')\n",
    "plt.ylabel('x')\n",
    "plt.subplot(2,2,2)\n",
    "idx = ref['t'] > tend-5*np.max(T)\n",
    "plt.plot(ref['t'][idx],ref['y'][0,idx],'k')\n",
    "plt.xlabel('Time')\n",
    "plt.subplot(2,2,3)\n",
    "idx = ref['t'] > tend-np.max(T)\n",
    "jdx, = np.where(ref['t_events'][0] > tend-np.max(T))\n",
    "plt.plot(ref['t'][idx],ref['y'][0,idx],'k')\n",
    "for j in jdx:\n",
    "    plt.plot(ref['t_events'][0][j]+np.zeros(2),[-8,8],'r--')\n",
    "plt.ylabel('x')\n",
    "plt.xlabel('Time')\n",
    "plt.subplot(2,2,4)\n",
    "plt.plot(np.diff(ref['t_events'][0]),'k')\n",
    "plt.axis([290,300,9.9,10.1])\n",
    "plt.show()\n",
    "print('(%f,%f)' % tuple(ref['y'][:,-1]))"
   ]
  },
  {
   "cell_type": "code",
   "execution_count": null,
   "metadata": {},
   "outputs": [],
   "source": [
    "y0 = ref['y'][:,-1]\n",
    "tend = 1000\n",
    "ref = solve_ivp(lambda t,y: systems.vdp(t,y,epsilon,A,T),[0,tend], y0,\n",
    "                method='BDF', jac=lambda t,y: systems.vdp_jac(t,y,epsilon),\n",
    "                events=systems.y1min, atol=abstol, rtol=reltol)"
   ]
  },
  {
   "cell_type": "code",
   "execution_count": null,
   "metadata": {},
   "outputs": [],
   "source": [
    "T_min = np.min(T)\n",
    "print('T_min =', T_min)\n",
    "fun = lambda t,y: systems.vdp(t,y,epsilon,A,T)\n",
    "env_fun = lambda t,y: envelope._envelope_system(t,y,fun,T_min)\n",
    "sol = solve_ivp(env_fun, [0,tend], y0, method='BDF', period=T_min)"
   ]
  },
  {
   "cell_type": "code",
   "execution_count": null,
   "metadata": {},
   "outputs": [],
   "source": [
    "plt.figure(figsize=(12,6))\n",
    "plt.plot(ref['t'],ref['y'][0],'k')\n",
    "plt.plot(sol['t'],sol['y'][0],'ro-')\n",
    "#plt.axis([0,20,0,25])\n",
    "plt.show()"
   ]
  },
  {
   "cell_type": "code",
   "execution_count": null,
   "metadata": {},
   "outputs": [],
   "source": [
    "y0 = ref['y'][:,-1]\n",
    "tend = 300\n",
    "ref = solve_ivp(lambda t,y: systems.vdp(t,y,epsilon,A,T),[0,tend], y0,\n",
    "                method='BDF', jac=lambda t,y: systems.vdp_jac(t,y,epsilon),\n",
    "                events=systems.y1min, atol=abstol, rtol=reltol)\n",
    "T_min = np.min(T)\n",
    "H = 2*T_min\n",
    "fun = lambda t,y: systems.vdp(t,y,epsilon,A,T)\n",
    "env_fun = lambda t,y: envelope._envelope_system(t,y,fun,T_min)\n",
    "fw_eul = forward_euler(env_fun, [0,tend], y0, H)\n",
    "bdf_var_step = solve_ivp(env_fun, [0,tend], y0, method='BDF')\n",
    "sol = envelope.envelope_full(lambda t,y: systems.vdp(t,y,epsilon,A,T),[0,tend],y0,T_min,H,4)"
   ]
  },
  {
   "cell_type": "code",
   "execution_count": null,
   "metadata": {},
   "outputs": [],
   "source": [
    "bdf_var_step['y'][0]"
   ]
  },
  {
   "cell_type": "code",
   "execution_count": null,
   "metadata": {},
   "outputs": [],
   "source": [
    "plt.figure(figsize=(12,6))\n",
    "plt.plot(ref['t'],ref['y'][0],color=[.6,.6,.6])\n",
    "plt.plot(sol['t'],sol['y'][0],'k')\n",
    "plt.plot(sol['T'],sol['Z'][0],'r')\n",
    "plt.plot(bdf_var_step['t'],bdf_var_step['y'][0],'go-')\n",
    "#plt.plot(fw_eul['t'],fw_eul['y'][0],'k')\n",
    "t = 0\n",
    "col = 'g'\n",
    "# while t < tend:\n",
    "#     if col == 'r':\n",
    "#         col = 'g'\n",
    "#     else:\n",
    "#         col = 'r'\n",
    "#     plt.plot([t,t],[-25,25],col)\n",
    "#     t += T_min\n",
    "#plt.axis([150,200,0,30])\n",
    "plt.show()"
   ]
  },
  {
   "cell_type": "code",
   "execution_count": null,
   "metadata": {},
   "outputs": [],
   "source": [
    "fun = lambda t,y: systems.vdp(t,y,epsilon,[0],[1])\n",
    "env_fun = lambda t,y: envelope._envelope_system(t,y,fun,T_norm)\n",
    "fw_eul = forward_euler(env_fun, [0,tend], y0, 100*T_norm)\n",
    "fw_eul['t'] *= np.sqrt(L*C)\n",
    "fw_eul['y'] *= np.sqrt(alpha/(3*gamma))\n",
    "bdf_fixed_step = bdf(env_fun, [0,tend], y0, 100*T_norm, order=4)\n",
    "bdf_fixed_step['t'] *= np.sqrt(L*C)\n",
    "bdf_fixed_step['y'] *= np.sqrt(alpha/(3*gamma))"
   ]
  },
  {
   "cell_type": "code",
   "execution_count": null,
   "metadata": {},
   "outputs": [],
   "source": [
    "bdf_var_step = solve_ivp(env_fun, [0,tend], y0, method='BDF')\n",
    "solutions = []\n",
    "for i in range(len(bdf_var_step['t'])):\n",
    "    env_t0 = bdf_var_step['t'][i]\n",
    "    env_y0 = bdf_var_step['y'][:,i]\n",
    "    #print('%03d/%03d' % (i,len(bdf_var_step['t'])))\n",
    "    solutions.append(solve_ivp(fun, [env_t0,env_t0+T_norm], env_y0, method='BDF'))\n",
    "    solutions[-1]['t'] *= np.sqrt(L*C)\n",
    "    solutions[-1]['y'] *= np.sqrt(alpha/(3*gamma))\n",
    "bdf_var_step['t'] *= np.sqrt(L*C)\n",
    "bdf_var_step['y'] *= np.sqrt(alpha/(3*gamma))"
   ]
  },
  {
   "cell_type": "code",
   "execution_count": null,
   "metadata": {},
   "outputs": [],
   "source": [
    "orange = [1,.8,.4]\n",
    "cyan = [0,.7,1]\n",
    "green = [0,1,.3]\n",
    "plt.figure(figsize=(10,18))\n",
    "plt.subplot(3,1,1)\n",
    "plt.plot(t_ref,v_ref,color=orange,label='Full solution')\n",
    "plt.plot(sol['t'],sol['y'][0],'k',lw=1,label='y')\n",
    "plt.plot(sol['T'],sol['Z'][0],'mo-',lw=2,label='Envelope')\n",
    "plt.plot(fw_eul['t'],fw_eul['y'][0],'s-',color=cyan,lw=2,label='Forward Euler')\n",
    "plt.plot(bdf_fixed_step['t'],bdf_fixed_step['y'][0],'s-',color=green,lw=2,label='BDF fixed step')\n",
    "plt.plot(bdf_var_step['t'],bdf_var_step['y'][0],'^-',color=[1,0,0],lw=2,label='BDF variable step')\n",
    "plt.ylabel('Voltage (V)')\n",
    "plt.legend(loc='best')\n",
    "plt.subplot(3,1,2)\n",
    "plt.plot(t_ref,v_ref,color=orange)\n",
    "plt.plot(sol['T'],sol['Z'][0],'mo-',lw=6,markersize=12)\n",
    "plt.plot(fw_eul['t'],fw_eul['y'][0],'s-',color=cyan,lw=4,label='Forward Euler')\n",
    "plt.plot(bdf_fixed_step['t'],bdf_fixed_step['y'][0],'s-',color=green,lw=4,label='BDF fixed step')\n",
    "plt.plot(bdf_var_step['t'],bdf_var_step['y'][0],'^-',color=[1,0,0],lw=2,label='BDF variable step')\n",
    "plt.plot(sol['t'],sol['y'][0],'k',lw=2)\n",
    "plt.axis([0,4.2*H*np.sqrt(L*C),-0.01,0.01])\n",
    "plt.ylabel('Voltage (V)')\n",
    "plt.subplot(3,1,3)\n",
    "plt.plot(t_ref,v_ref,color=orange)\n",
    "plt.plot(sol['T'],sol['Z'][0],'mo-',lw=6,markersize=12)\n",
    "plt.plot(fw_eul['t'],fw_eul['y'][0],'s-',color=cyan,lw=4,label='Forward Euler')\n",
    "plt.plot(bdf_fixed_step['t'],bdf_fixed_step['y'][0],'s-',color=green,lw=4,label='BDF fixed step')\n",
    "plt.plot(bdf_var_step['t'],bdf_var_step['y'][0],'^-',color=[1,0,0],lw=2,label='BDF variable step')\n",
    "plt.plot(sol['t'],sol['y'][0],'k',lw=2)\n",
    "for s in solutions:\n",
    "    plt.plot(s['t'],s['y'][0],color=[.5,.5,.5],lw=2)\n",
    "# plt.xlim(np.array([tend-1.2*H,tend])*np.sqrt(L*C))\n",
    "plt.axis([810,820,-0.15,0.15])\n",
    "plt.ylabel('Voltage (V)')\n",
    "plt.xlabel('Time (s)')\n",
    "plt.show()"
   ]
  }
 ],
 "metadata": {
  "kernelspec": {
   "display_name": "Python 3",
   "language": "python",
   "name": "python3"
  },
  "language_info": {
   "codemirror_mode": {
    "name": "ipython",
    "version": 3
   },
   "file_extension": ".py",
   "mimetype": "text/x-python",
   "name": "python",
   "nbconvert_exporter": "python",
   "pygments_lexer": "ipython3",
   "version": "3.7.2"
  }
 },
 "nbformat": 4,
 "nbformat_minor": 2
}
