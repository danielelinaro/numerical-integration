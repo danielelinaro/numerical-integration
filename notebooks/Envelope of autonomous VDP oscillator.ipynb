{
 "cells": [
  {
   "cell_type": "markdown",
   "metadata": {},
   "source": [
    "## Autonomous system"
   ]
  },
  {
   "cell_type": "code",
   "execution_count": null,
   "metadata": {},
   "outputs": [],
   "source": [
    "%load_ext autoreload\n",
    "%autoreload 2\n",
    "import numpy as np\n",
    "import matplotlib.pyplot as plt\n",
    "from scipy.integrate import solve_ivp\n",
    "from polimi.systems import vdp, vdp_jac, y1min\n",
    "import polimi.envelope as envelope\n",
    "from polimi.solvers import *"
   ]
  },
  {
   "cell_type": "code",
   "execution_count": null,
   "metadata": {},
   "outputs": [],
   "source": [
    "alpha = 1e-3\n",
    "gamma = 1e-3\n",
    "L = 0.1\n",
    "C = 0.1\n",
    "# the period of the normalized Van der Pol oscillator\n",
    "T_norm = 2*np.pi\n",
    "# the actual period of the Van der Pol oscillator when L and C are taken into account\n",
    "T = 2*np.pi*np.sqrt(L*C)\n",
    "n_periods = 5000\n",
    "epsilon = alpha * np.sqrt(L/C)\n",
    "print('epsilon = %g' % epsilon)\n",
    "reltol = 1e-6\n",
    "abstol = np.array([1e-8,1e-8])\n",
    "# simulation duration of the normalized system\n",
    "tend = n_periods*T_norm\n",
    "v0,w0 = 2e-3,0.\n",
    "y0 = np.array([v0*np.sqrt(3*gamma/alpha),w0*np.sqrt(3*gamma/alpha)])\n",
    "method = 'RK45'\n",
    "if method == 'RK45':\n",
    "    sol = solve_ivp(lambda t,y: vdp(t,y,epsilon,[0],[1]),[0,tend],y0,\n",
    "                    method='RK45',atol=abstol,rtol=reltol)\n",
    "elif method == 'BDF':\n",
    "    sol = solve_ivp(lambda t,y: vdp(t,y,epsilon,[0],[1]),[0,tend],y0,\n",
    "                    method='BDF',jac=lambda t,y: vdp_jac(t,y,epsilon),\n",
    "                    events=y1min,atol=abstol,rtol=reltol)\n",
    "t_ref = np.sqrt(L*C) * sol['t']\n",
    "v_ref = np.sqrt(alpha/(3*gamma)) * sol['y'][0]\n",
    "w_ref = np.sqrt(alpha/(3*gamma)) * sol['y'][1]"
   ]
  },
  {
   "cell_type": "code",
   "execution_count": null,
   "metadata": {},
   "outputs": [],
   "source": [
    "H = 100*T_norm\n",
    "sol = envelope.envelope_full(lambda t,y: vdp(t,y,epsilon,[0],[1]),[0,tend],y0,T_norm,H,4)\n",
    "sol['t'] *= np.sqrt(L*C)\n",
    "sol['y'] *= np.sqrt(alpha/(3*gamma))\n",
    "sol['T'] *= np.sqrt(L*C)\n",
    "sol['Z'] *= np.sqrt(alpha/(3*gamma))"
   ]
  },
  {
   "cell_type": "code",
   "execution_count": null,
   "metadata": {},
   "outputs": [],
   "source": [
    "fun = lambda t,y: vdp(t,y,epsilon,[0],[1])\n",
    "env_fun = lambda t,y: envelope._envelope_system(t,y,fun,T_norm)\n",
    "fw_eul = forward_euler(env_fun, [0,tend], y0, 100*T_norm)\n",
    "fw_eul['t'] *= np.sqrt(L*C)\n",
    "fw_eul['y'] *= np.sqrt(alpha/(3*gamma))\n",
    "bdf_fixed_step = bdf(env_fun, [0,tend], y0, 100*T_norm, order=4)\n",
    "bdf_fixed_step['t'] *= np.sqrt(L*C)\n",
    "bdf_fixed_step['y'] *= np.sqrt(alpha/(3*gamma))"
   ]
  },
  {
   "cell_type": "code",
   "execution_count": null,
   "metadata": {},
   "outputs": [],
   "source": [
    "bdf_var_step = solve_ivp(env_fun, [0,tend], y0, method='BDF')\n",
    "solutions = []\n",
    "for i in range(len(bdf_var_step['t'])):\n",
    "    env_t0 = bdf_var_step['t'][i]\n",
    "    env_y0 = bdf_var_step['y'][:,i]\n",
    "    #print('%03d/%03d' % (i,len(bdf_var_step['t'])))\n",
    "    solutions.append(solve_ivp(fun, [env_t0,env_t0+T_norm], env_y0, method='BDF'))\n",
    "    solutions[-1]['t'] *= np.sqrt(L*C)\n",
    "    solutions[-1]['y'] *= np.sqrt(alpha/(3*gamma))\n",
    "bdf_var_step['t'] *= np.sqrt(L*C)\n",
    "bdf_var_step['y'] *= np.sqrt(alpha/(3*gamma))"
   ]
  },
  {
   "cell_type": "code",
   "execution_count": null,
   "metadata": {},
   "outputs": [],
   "source": [
    "envelope = solve_ivp(env_fun, [0,tend], y0, method=envelope.Envelope,\n",
    "                     period=T_norm, atol=abstol, rtol=reltol)\n",
    "envelope['t'] *= np.sqrt(L*C)\n",
    "envelope['y'] *= np.sqrt(alpha/(3*gamma))"
   ]
  },
  {
   "cell_type": "code",
   "execution_count": null,
   "metadata": {},
   "outputs": [],
   "source": [
    "orange = [1,.8,.4]\n",
    "cyan = [0,.7,1]\n",
    "green = [0,1,.3]\n",
    "plt.figure(figsize=(10,18))\n",
    "plt.subplot(3,1,1)\n",
    "plt.plot(t_ref,v_ref,color=orange,label='Full solution')\n",
    "plt.plot(sol['t'],sol['y'][0],'k',lw=1,label='y')\n",
    "plt.plot(sol['T'],sol['Z'][0],'mo-',lw=2,label='Envelope')\n",
    "plt.plot(fw_eul['t'],fw_eul['y'][0],'s-',color=cyan,lw=2,label='Forward Euler')\n",
    "plt.plot(bdf_fixed_step['t'],bdf_fixed_step['y'][0],'s-',color=green,lw=2,label='BDF fixed step')\n",
    "plt.plot(bdf_var_step['t'],bdf_var_step['y'][0],'^-',color=[1,0,0],lw=2,label='BDF variable step')\n",
    "#plt.plot(envelope['t'],envelope['y'][0],'v-',color=[.6,.6,.6],lw=2,label='BDF var int step')\n",
    "plt.ylabel('Voltage (V)')\n",
    "plt.legend(loc='best')\n",
    "plt.subplot(3,1,2)\n",
    "plt.plot(t_ref,v_ref,color=orange)\n",
    "plt.plot(sol['T'],sol['Z'][0],'mo-',lw=6,markersize=12)\n",
    "plt.plot(fw_eul['t'],fw_eul['y'][0],'s-',color=cyan,lw=4,label='Forward Euler')\n",
    "plt.plot(bdf_fixed_step['t'],bdf_fixed_step['y'][0],'s-',color=green,lw=4,label='BDF fixed step')\n",
    "plt.plot(bdf_var_step['t'],bdf_var_step['y'][0],'^-',color=[1,0,0],lw=2,label='BDF variable step')\n",
    "#plt.plot(envelope['t'],envelope['y'][0],'v-',color=[.6,.6,.6],lw=2,label='BDF var int step')\n",
    "plt.plot(sol['t'],sol['y'][0],'k',lw=2)\n",
    "plt.axis([0,4.2*H*np.sqrt(L*C),-0.01,0.01])\n",
    "plt.ylabel('Voltage (V)')\n",
    "plt.subplot(3,1,3)\n",
    "plt.plot(t_ref,v_ref,color=orange)\n",
    "plt.plot(sol['T'],sol['Z'][0],'mo-',lw=2,markersize=5)\n",
    "#plt.plot(fw_eul['t'],fw_eul['y'][0],'s-',color=cyan,lw=4,label='Forward Euler')\n",
    "#plt.plot(bdf_fixed_step['t'],bdf_fixed_step['y'][0],'s-',color=green,lw=2,label='BDF fixed step')\n",
    "#plt.plot(bdf_var_step['t'],bdf_var_step['y'][0],'^-',color=[1,0,0],lw=2,label='BDF variable step')\n",
    "#plt.plot(envelope['t'],envelope['y'][0],'v-',color=[.6,.6,.6],lw=2,label='BDF var int step')\n",
    "plt.plot(sol['t'],sol['y'][0],'k',lw=2)\n",
    "#for s in solutions:\n",
    "#    plt.plot(s['t'],s['y'][0],color=[.5,.5,.5],lw=2)\n",
    "# plt.xlim(np.array([tend-1.2*H,tend])*np.sqrt(L*C))\n",
    "plt.axis([810,820,-0.15,0.15])\n",
    "plt.ylabel('Voltage (V)')\n",
    "plt.xlabel('Time (s)')\n",
    "plt.show()"
   ]
  }
 ],
 "metadata": {
  "kernelspec": {
   "display_name": "Python 3",
   "language": "python",
   "name": "python3"
  },
  "language_info": {
   "codemirror_mode": {
    "name": "ipython",
    "version": 3
   },
   "file_extension": ".py",
   "mimetype": "text/x-python",
   "name": "python",
   "nbconvert_exporter": "python",
   "pygments_lexer": "ipython3",
   "version": "3.7.2"
  }
 },
 "nbformat": 4,
 "nbformat_minor": 2
}
