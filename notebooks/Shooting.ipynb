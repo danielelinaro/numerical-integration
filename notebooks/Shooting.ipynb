{
 "cells": [
  {
   "cell_type": "code",
   "execution_count": null,
   "metadata": {},
   "outputs": [],
   "source": [
    "%load_ext autoreload\n",
    "%autoreload 2\n",
    "import numpy as np\n",
    "import matplotlib.pyplot as plt\n",
    "from scipy.integrate import solve_ivp\n",
    "import polimi.shooting as shooting\n",
    "import polimi.systems as systems"
   ]
  },
  {
   "cell_type": "markdown",
   "metadata": {},
   "source": [
    "#### Verify that the (rescaled) period is unitary"
   ]
  },
  {
   "cell_type": "code",
   "execution_count": null,
   "metadata": {},
   "outputs": [],
   "source": [
    "autonomous = False\n",
    "epsilon = 0.001\n",
    "if autonomous:\n",
    "    T = 2*np.pi\n",
    "    A = 0\n",
    "else:\n",
    "    A = 1.2\n",
    "    T = 10.\n",
    "tend = 1500.\n",
    "y0_ref = np.array([2,-3])\n",
    "reltol = 1e-6\n",
    "abstol = 1e-8*np.ones(y0_ref.shape)\n",
    "ref = solve_ivp(lambda t,y: T*systems.vdp(t*T,y,epsilon,[A],[T]),[0,tend],y0_ref,\n",
    "                    method='BDF',jac=lambda t,y: systems.vdp_jac(t,y,epsilon),\n",
    "                    events=systems.y1min,atol=abstol,rtol=reltol)"
   ]
  },
  {
   "cell_type": "code",
   "execution_count": null,
   "metadata": {},
   "outputs": [],
   "source": [
    "plt.figure(figsize=[15,4])\n",
    "plt.subplot(1,3,1)\n",
    "plt.plot(ref['t'],ref['y'][0,:],'k')\n",
    "plt.xlabel('Time')\n",
    "plt.ylabel('x')\n",
    "#\n",
    "idx = ref['t'] >= tend-1\n",
    "plt.subplot(1,3,2)\n",
    "plt.plot(ref['t'][idx]-tend+1,ref['y'][0,idx],'k')\n",
    "plt.xlabel('Time')\n",
    "plt.ylabel('x')\n",
    "#\n",
    "plt.subplot(1,3,3)\n",
    "plt.plot(np.diff(ref['t_events'][0]),'k')\n",
    "plt.plot(plt.xlim(),[1,1],'r--')\n",
    "plt.xlabel('Cycle')\n",
    "plt.ylabel('Period')\n",
    "plt.show()"
   ]
  },
  {
   "cell_type": "markdown",
   "metadata": {},
   "source": [
    "#### Apply two sinusoidal forcing terms with different periods"
   ]
  },
  {
   "cell_type": "code",
   "execution_count": null,
   "metadata": {},
   "outputs": [],
   "source": [
    "epsilon = 0.001\n",
    "A = [1.2,1.2]\n",
    "T = [10.,100.]\n",
    "tend = 20000.\n",
    "y0_ref = np.array([2,-3])\n",
    "reltol = 1e-6\n",
    "abstol = 1e-8*np.ones(y0_ref.shape)\n",
    "ref = solve_ivp(lambda t,y: systems.vdp(t,y,epsilon,A,T),[0,tend],y0_ref,\n",
    "                method='RK45',\n",
    "                atol=abstol,rtol=reltol)"
   ]
  },
  {
   "cell_type": "code",
   "execution_count": null,
   "metadata": {},
   "outputs": [],
   "source": [
    "plt.figure(figsize=[10,4])\n",
    "plt.subplot(1,2,1)\n",
    "idx = ref['t'] > tend-5*np.max(T)\n",
    "plt.plot(ref['t'][idx],ref['y'][0][idx],'k')\n",
    "plt.xlabel('Time')\n",
    "plt.ylabel('x')\n",
    "plt.subplot(1,2,2)\n",
    "idx = ref['t'] > tend-10*np.min(T)\n",
    "plt.plot(ref['t'][idx],ref['y'][0][idx],'k')\n",
    "plt.xlabel('Time')\n",
    "plt.show()\n",
    "print('(%f,%f)' % tuple(ref['y'][:,-1]))"
   ]
  },
  {
   "cell_type": "markdown",
   "metadata": {},
   "source": [
    "#### Shooting on the autonomous Van der Pol oscillator"
   ]
  },
  {
   "cell_type": "code",
   "execution_count": null,
   "metadata": {},
   "outputs": [],
   "source": [
    "autonomous = True\n",
    "with_jac = True\n",
    "epsilon = 0.001\n",
    "T = [2*np.pi]\n",
    "A = [0]\n",
    "y0_guess = [-2,3]\n",
    "T_guess = 0.6*T[0]\n",
    "plt.figure(figsize=(8,5))\n",
    "if with_jac:\n",
    "    y0_opt,T,phi,n_iter = shooting.shooting(lambda t,y: systems.vdp(t,y,epsilon,A,T),\n",
    "                                            y0_guess, T_guess, autonomous, \n",
    "                                            lambda t,y: systems.vdp_jac(t,y,epsilon), do_plot=True)\n",
    "else:\n",
    "    y0_opt,T,phi,n_iter = shooting.shooting(lambda t,y: systems.vdp(t,y,epsilon,A,T),\n",
    "                                            y0_guess, T_guess, autonomous, do_plot=True)\n",
    "floquet_multi,_ = np.linalg.eig(phi)\n",
    "print('T = %g.' % T)\n",
    "print('eig(Phi) = (%f,%f).' % tuple(floquet_multi))\n",
    "print('Number of iterations: %d.' % n_iter)"
   ]
  },
  {
   "cell_type": "markdown",
   "metadata": {},
   "source": [
    "#### Shooting on the forced Van der Pol oscillator"
   ]
  },
  {
   "cell_type": "code",
   "execution_count": null,
   "metadata": {},
   "outputs": [],
   "source": [
    "autonomous = False\n",
    "with_jac = True\n",
    "epsilon = 0.001\n",
    "T = [10.]\n",
    "A = [1.2]\n",
    "y0_guess = [-1,2]\n",
    "plt.figure(figsize=(8,5))\n",
    "if with_jac:\n",
    "    y0_opt,phi,n_iter = shooting.shooting(lambda t,y: systems.vdp(t,y,epsilon,A,T), \n",
    "                                          y0_guess, T[0], autonomous, \n",
    "                                          lambda t,y: systems.vdp_jac(t,y,epsilon), do_plot=True)\n",
    "else:\n",
    "    y0_opt,phi,n_iter = shooting.shooting(lambda t,y: systems.vdp(t,y,epsilon,A,T),\n",
    "                                          y0_guess, T[0], autonomous, do_plot=True)\n",
    "print('Number of iterations: %d.' % n_iter)"
   ]
  },
  {
   "cell_type": "markdown",
   "metadata": {},
   "source": [
    "#### Shooting on the forced Van der Pol oscillator with two sinusoidal terms"
   ]
  },
  {
   "cell_type": "code",
   "execution_count": null,
   "metadata": {},
   "outputs": [],
   "source": [
    "autonomous = False\n",
    "with_jac = True\n",
    "epsilon = 0.001\n",
    "T = [10.,200.]\n",
    "A = [1.2,1.2]\n",
    "# a point on the steady-state cycle\n",
    "pt_on_cycle = np.array([3.187493,-0.005534])\n",
    "y0_guess = [-2,0]\n",
    "plt.figure(figsize=(8,5))\n",
    "if with_jac:\n",
    "    y0_opt,phi,n_iter = shooting.shooting(lambda t,y: systems.vdp(t,y,epsilon,A,T), \n",
    "                                          y0_guess, np.max(T), autonomous, \n",
    "                                          lambda t,y: systems.vdp_jac(t,y,epsilon),\n",
    "                                          max_iter=100, tol=1e-7, do_plot=True)\n",
    "else:\n",
    "    y0_opt,phi,n_iter = shooting.shooting(lambda t,y: systems.vdp(t,y,epsilon,A,T),\n",
    "                                          y0_guess, np.max(T), autonomous, jac=None,\n",
    "                                          max_iter=300, do_plot=True)\n",
    "print('Number of iterations: %d.' % n_iter)"
   ]
  }
 ],
 "metadata": {
  "kernelspec": {
   "display_name": "Python 3",
   "language": "python",
   "name": "python3"
  },
  "language_info": {
   "codemirror_mode": {
    "name": "ipython",
    "version": 3
   },
   "file_extension": ".py",
   "mimetype": "text/x-python",
   "name": "python",
   "nbconvert_exporter": "python",
   "pygments_lexer": "ipython3",
   "version": "3.7.2"
  }
 },
 "nbformat": 4,
 "nbformat_minor": 2
}
