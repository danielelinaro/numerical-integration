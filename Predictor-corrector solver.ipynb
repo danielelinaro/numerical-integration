{
 "cells": [
  {
   "cell_type": "code",
   "execution_count": 1,
   "metadata": {
    "collapsed": true
   },
   "outputs": [],
   "source": [
    "import numpy as np\n",
    "import matplotlib.pyplot as plt\n",
    "from scipy.integrate import solve_ivp, quad\n",
    "from scipy.optimize import newton\n",
    "from scipy.special import binom"
   ]
  },
  {
   "cell_type": "code",
   "execution_count": 2,
   "metadata": {
    "collapsed": true
   },
   "outputs": [],
   "source": [
    "A = np.zeros((6,6))\n",
    "B = np.zeros((6,6))\n",
    "Bstar = np.zeros((6,6))\n",
    "A[:,0] = 1.\n",
    "B[0,0] = 1.\n",
    "B[1,:2] = np.array([3.,-1.])/2.\n",
    "B[2,:3] = np.array([23.,-16.,5.])/12.\n",
    "B[3,:4] = np.array([55.,-59.,37.,-9.])/24.\n",
    "B[4,:5] = np.array([1901.,-2774.,2616.,-1274.,251.])/720.\n",
    "B[5,:6] = np.array([4277.,-7923.,9982.,-7298.,2877.,-475.])/1440.\n",
    "Bstar[0,0] = 1.\n",
    "Bstar[1,:2] = np.array([1.,1.])/2.\n",
    "Bstar[2,:3] = np.array([5.,8.,-1.])/12.\n",
    "Bstar[3,:4] = np.array([9.,19.,-5.,1.])/24.\n",
    "Bstar[4,:5] = np.array([251.,646.,-264.,106.,-19.])/720.\n",
    "Bstar[5,:6] = np.array([475.,1427.,-798.,482.,-173.,27.])/1440."
   ]
  },
  {
   "cell_type": "code",
   "execution_count": 53,
   "metadata": {
    "collapsed": true
   },
   "outputs": [],
   "source": [
    "def RK(fun,t_span,y0,h):\n",
    "    t = np.arange(t_span[0],t_span[1],h)\n",
    "    n_steps = len(t)\n",
    "    N = len(y0)\n",
    "    y = np.zeros((N,n_steps))\n",
    "    dy = np.zeros((N,n_steps))\n",
    "    y[:,0] = y0\n",
    "    dy[:,0] = fun(t[0],y[:,0])\n",
    "    for i in range(n_steps-1):\n",
    "        k1 = fun(t[i],y[:,i])\n",
    "        k2 = fun(t[i]+h/2,y[:,i]+h/2*k1)\n",
    "        k3 = fun(t[i]+h/2,y[:,i]+h/2*k2)\n",
    "        k4 = fun(t[i+1],y[:,i]+h*k3)\n",
    "        y[:,i+1] = y[:,i] + h*(k1+2*k2+2*k3+k4)/6\n",
    "        dy[:,i+1] = fun(t[i+1],y[:,i+1])\n",
    "    return t,y,dy\n",
    "\n",
    "def solver(fun,t_span,y0,h,order):\n",
    "    t = np.arange(t_span[0],t_span[1],h)\n",
    "    n_steps = len(t)\n",
    "    N = len(y0)\n",
    "    y = np.zeros((N,n_steps))\n",
    "    dy = np.zeros((N,n_steps))\n",
    "    t[:order],y[:,:order],dy[:,:order] = RK(fun,[t_span[0],t_span[0]+order*h],y0,h)\n",
    "    for i in range(order,n_steps):\n",
    "        y_p = np.zeros(N)\n",
    "        # predictor\n",
    "        for j in range(order):\n",
    "            y_p += A[order-1,j]*y[:,i-1-j] + h*B[order-1,j]*dy[:,i-1-j]\n",
    "        # corrector\n",
    "        y_c = A[order-1,0]*y[:,i-1] + h*Bstar[order-1,0]*fun(t[i],y_p)\n",
    "        for j in range(1,order):\n",
    "            y_c += A[order-1,j]*y[:,i-j] + h*Bstar[order-1,j]*dy[:,i-j]\n",
    "        y[:,i] = y_c\n",
    "        dy[:,i] = fun(t[i],y[:,i])\n",
    "    return t,y"
   ]
  },
  {
   "cell_type": "code",
   "execution_count": 4,
   "metadata": {
    "collapsed": true
   },
   "outputs": [],
   "source": [
    "def vanderpol(t,y,epsilon):\n",
    "    return np.array([\n",
    "        y[1],\n",
    "        epsilon*(1-y[0]**2)*y[1] - y[0]\n",
    "    ])\n",
    "def jacobian(t,y,epsilon):\n",
    "    return np.array([\n",
    "        [0,1],\n",
    "        [-2*epsilon*y[0]*y[1]-1,epsilon*(1-y[0]**2)]\n",
    "    ])"
   ]
  },
  {
   "cell_type": "code",
   "execution_count": 29,
   "metadata": {},
   "outputs": [],
   "source": [
    "alpha = 1e-3\n",
    "gamma = 1e-3\n",
    "L = 0.1\n",
    "C = 0.1\n",
    "tau = 1./np.sqrt(L*C)\n",
    "epsilon = alpha * np.sqrt(L/C)\n",
    "reltol = 1e-6\n",
    "abstol = np.array([1e-8,1e-8])\n",
    "tend = 20.\n",
    "v0,w0 = 2e-3,0.\n",
    "y0 = np.array([v0*np.sqrt(3*gamma/alpha),w0*np.sqrt(3*gamma/alpha)])\n",
    "method = 'BDF'\n",
    "if method == 'RK45':\n",
    "    sol = solve_ivp(lambda t,y: vanderpol(t,y,epsilon),[0,tend/np.sqrt(L*C)],y0,\n",
    "                    method='RK45',atol=abstol,rtol=reltol)\n",
    "elif method == 'BDF':\n",
    "    sol = solve_ivp(lambda t,y: vanderpol(t,y,epsilon),[0,tend/np.sqrt(L*C)],y0,\n",
    "                    method='BDF',jac=lambda tau,y: jacobian(tau,y,epsilon),\n",
    "                    atol=abstol,rtol=reltol)\n",
    "T = np.sqrt(L*C) * sol['t']\n",
    "V = np.sqrt(alpha/(3*gamma)) * sol['y'][0]\n",
    "W = np.sqrt(alpha/(3*gamma)) * sol['y'][1]"
   ]
  },
  {
   "cell_type": "code",
   "execution_count": 51,
   "metadata": {},
   "outputs": [],
   "source": [
    "h = 0.1\n",
    "t,y = solver(lambda t,y: vanderpol(t,y,epsilon),[0,tend/np.sqrt(L*C)],y0,h,order=4)\n",
    "t *= np.sqrt(L*C)\n",
    "v = y[0,:] * np.sqrt(alpha/(3*gamma))"
   ]
  },
  {
   "cell_type": "code",
   "execution_count": 52,
   "metadata": {},
   "outputs": [
    {
     "data": {
      "image/png": "[encoded data removed]",
      "text/plain": [
       "<matplotlib.figure.Figure at 0x151dfa9f90>"
      ]
     },
     "metadata": {},
     "output_type": "display_data"
    }
   ],
   "source": [
    "plt.plot(T,V,'k')\n",
    "plt.plot(t,v,'r')\n",
    "plt.xlim([19,20])\n",
    "plt.show()"
   ]
  }
 ],
 "metadata": {
  "kernelspec": {
   "display_name": "Python 2",
   "language": "python",
   "name": "python2"
  },
  "language_info": {
   "codemirror_mode": {
    "name": "ipython",
    "version": 2
   },
   "file_extension": ".py",
   "mimetype": "text/x-python",
   "name": "python",
   "nbconvert_exporter": "python",
   "pygments_lexer": "ipython2",
   "version": "2.7.12"
  }
 },
 "nbformat": 4,
 "nbformat_minor": 2
}
